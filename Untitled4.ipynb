{
  "nbformat": 4,
  "nbformat_minor": 0,
  "metadata": {
    "colab": {
      "name": "Untitled4.ipynb",
      "provenance": [],
      "authorship_tag": "ABX9TyMFUYobwyQinpT+FaxWFDNh",
      "include_colab_link": true
    },
    "kernelspec": {
      "name": "python3",
      "display_name": "Python 3"
    },
    "language_info": {
      "name": "python"
    }
  },
  "cells": [
    {
      "cell_type": "markdown",
      "metadata": {
        "id": "view-in-github",
        "colab_type": "text"
      },
      "source": [
        "<a href=\"https://colab.research.google.com/github/sksatyam7479/Py-Lab/blob/main/Untitled4.ipynb\" target=\"_parent\"><img src=\"https://colab.research.google.com/assets/colab-badge.svg\" alt=\"Open In Colab\"/></a>"
      ]
    },
    {
      "cell_type": "markdown",
      "metadata": {
        "id": "oBrxB13fdcyr"
      },
      "source": [
        "1. Create a list with tuples inside it(series) calculate the sum of elements i tuple and store the sum of tuples in second list "
      ]
    },
    {
      "cell_type": "code",
      "metadata": {
        "colab": {
          "base_uri": "https://localhost:8080/"
        },
        "id": "R6aGdt3uaRZi",
        "outputId": "8f7b60e5-ef6a-42a7-8026-6e701d22458f"
      },
      "source": [
        "l=[(1,2,3),(4,5,6),(7,8,9)]\n",
        "sum=0\n",
        "l1=[]\n",
        "for i in l:\n",
        "  for j in i:\n",
        "    sum=sum+j\n",
        "  print(i,\"sum is \"+str(sum))\n",
        "  l1.append(sum)\n",
        "print(l1)\n"
      ],
      "execution_count": 12,
      "outputs": [
        {
          "output_type": "stream",
          "text": [
            "(1, 2, 3) sum is 6\n",
            "(4, 5, 6) sum is 21\n",
            "(7, 8, 9) sum is 45\n",
            "[6, 21, 45]\n"
          ],
          "name": "stdout"
        }
      ]
    },
    {
      "cell_type": "markdown",
      "metadata": {
        "id": "nHBE6UwLhWmX"
      },
      "source": [
        "2. WAP to craeate a list and input numbers into it, then remove the repeated elements from it and display it back"
      ]
    },
    {
      "cell_type": "code",
      "metadata": {
        "id": "QnXh7crifhMI"
      },
      "source": [
        "                                                                 "
      ],
      "execution_count": null,
      "outputs": []
    }
  ]
}