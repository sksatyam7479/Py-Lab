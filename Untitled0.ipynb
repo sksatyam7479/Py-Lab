{
  "nbformat": 4,
  "nbformat_minor": 0,
  "metadata": {
    "colab": {
      "name": "Untitled0.ipynb",
      "provenance": [],
      "collapsed_sections": [],
      "authorship_tag": "ABX9TyMLhMsUahdATh90q2eTRIfh",
      "include_colab_link": true
    },
    "kernelspec": {
      "name": "python3",
      "display_name": "Python 3"
    }
  },
  "cells": [
    {
      "cell_type": "markdown",
      "metadata": {
        "id": "view-in-github",
        "colab_type": "text"
      },
      "source": [
        "<a href=\"https://colab.research.google.com/github/sksatyam7479/Py-Lab/blob/main/Untitled0.ipynb\" target=\"_parent\"><img src=\"https://colab.research.google.com/assets/colab-badge.svg\" alt=\"Open In Colab\"/></a>"
      ]
    },
    {
      "cell_type": "code",
      "metadata": {
        "id": "ly_ThxkbbmbV",
        "colab": {
          "base_uri": "https://localhost:8080/"
        },
        "outputId": "5dd49ae5-0920-4e89-fb67-40979d51392f"
      },
      "source": [
        "name=input(\"Enter your  name: \")\r\n",
        "age=input(\"Enter your age: \")\r\n",
        "address=input(\"Enter your address: \")\r\n",
        "print(\"Your details are: \",name,age,address,sep=\"/n\")"
      ],
      "execution_count": null,
      "outputs": [
        {
          "output_type": "stream",
          "text": [
            "Enter your  name: satyam\n",
            "Enter your age: 20-\n",
            "Enter your address: GUIETU\n",
            "Your details are: /nsatyam/n20-/nGUIETU\n"
          ],
          "name": "stdout"
        }
      ]
    },
    {
      "cell_type": "markdown",
      "metadata": {
        "id": "RLCg4E2OfCB2"
      },
      "source": [
        "program to input name,age,address"
      ]
    },
    {
      "cell_type": "code",
      "metadata": {
        "id": "YnxnRZUneLi_",
        "colab": {
          "base_uri": "https://localhost:8080/"
        },
        "outputId": "2bc597f1-516f-4fdc-915d-950ebde45a19"
      },
      "source": [
        "sub1=int(input(\"Enter your marks: \"))\r\n",
        "sub2=int(input(\"Enter your marks: \"))\r\n",
        "sub3=int(input(\"Enter your marks: \"))\r\n",
        "sum=sub1+sub2+sub3\r\n",
        "print(\"Sum of your marks: \",sum)\r\n",
        "print(\"Percentage: \",(sum/300)*100)"
      ],
      "execution_count": null,
      "outputs": [
        {
          "output_type": "stream",
          "text": [
            "Enter your marks: 91\n",
            "Enter your marks: 85\n",
            "Enter your marks: 90\n",
            "Sum of your marks:  266\n",
            "Percentage:  88.66666666666667\n"
          ],
          "name": "stdout"
        }
      ]
    },
    {
      "cell_type": "markdown",
      "metadata": {
        "id": "81piElcogpAa"
      },
      "source": [
        "Program to input your marks for three subjects then find the sum and percentage"
      ]
    },
    {
      "cell_type": "code",
      "metadata": {
        "colab": {
          "base_uri": "https://localhost:8080/"
        },
        "id": "CsQV3RbwgQsc",
        "outputId": "b952441c-ba46-47d1-9118-2e0c5751191c"
      },
      "source": [
        "r=int(input(\"Enter radius: \"))\r\n",
        "print(\"Area of circle: \",3.14*r*r)"
      ],
      "execution_count": null,
      "outputs": [
        {
          "output_type": "stream",
          "text": [
            "Enter radius: 5\n",
            "Area of circle:  78.5\n"
          ],
          "name": "stdout"
        }
      ]
    },
    {
      "cell_type": "markdown",
      "metadata": {
        "id": "2wxxJvcXgUZ0"
      },
      "source": [
        "program for area of circle"
      ]
    },
    {
      "cell_type": "code",
      "metadata": {
        "colab": {
          "base_uri": "https://localhost:8080/"
        },
        "id": "V8t7mwGsgrZ7",
        "outputId": "162f5403-4f3b-464d-b64a-617315494af9"
      },
      "source": [
        "b=int(input(\"Enter base of triangle: \"))\r\n",
        "h=int(input(\"Enter height of triangle: \"))\r\n",
        "s=int(input(\"Enter side of triangle: \"))\r\n",
        "t=int(input(\"Enter side of triangle: \"))\r\n",
        "print(\"Area of triangle: \",(b*h)/2)\r\n",
        "print(\"Perimeter of triangle: \",b+s+t)"
      ],
      "execution_count": null,
      "outputs": [
        {
          "output_type": "stream",
          "text": [
            "Enter base of triangle: 5\n",
            "Enter height of triangle: 6\n",
            "Enter side of triangle: 2\n",
            "Enter side of triangle: 3\n",
            "Area of triangle:  15.0\n",
            "Perimeter of triangle:  10\n"
          ],
          "name": "stdout"
        }
      ]
    },
    {
      "cell_type": "markdown",
      "metadata": {
        "id": "RYRovskHgHAv"
      },
      "source": [
        "program for perimeter and area of triangle"
      ]
    },
    {
      "cell_type": "code",
      "metadata": {
        "colab": {
          "base_uri": "https://localhost:8080/"
        },
        "id": "69nGPl9ZhBMN",
        "outputId": "ea2fe34f-27e3-4a73-eb20-7d57bf18a6bb"
      },
      "source": [
        "r=int(input(\"Enter Radius of sphere: \"))\r\n",
        "print(\"Volume of Sphere is: \",4.19*r*r*r)"
      ],
      "execution_count": null,
      "outputs": [
        {
          "output_type": "stream",
          "text": [
            "Enter Radius of sphere: 4\n",
            "Volume of Sphere is:  268.16\n"
          ],
          "name": "stdout"
        }
      ]
    },
    {
      "cell_type": "markdown",
      "metadata": {
        "id": "Tdqi5nRnhFIh"
      },
      "source": [
        "program for volume of sphere"
      ]
    },
    {
      "cell_type": "code",
      "metadata": {
        "colab": {
          "base_uri": "https://localhost:8080/"
        },
        "id": "4pKLKpSdhx6_",
        "outputId": "0d4e88ad-1b1f-4022-8570-f049bf3a1c74"
      },
      "source": [
        "f=(\"a\",\"b\",\"c\",\"d\",\"e\")\r\n",
        "print(f)"
      ],
      "execution_count": null,
      "outputs": [
        {
          "output_type": "stream",
          "text": [
            "('a', 'b', 'c', 'd', 'e')\n"
          ],
          "name": "stdout"
        }
      ]
    },
    {
      "cell_type": "markdown",
      "metadata": {
        "id": "A-pdq0-Nh1PZ"
      },
      "source": [
        "program to display five fruits name list"
      ]
    },
    {
      "cell_type": "code",
      "metadata": {
        "colab": {
          "base_uri": "https://localhost:8080/"
        },
        "id": "YAbbIelviJXl",
        "outputId": "cfbd53be-68d6-4771-9ec6-b374a3e88de3"
      },
      "source": [
        "s=input(\"Enter a string: \")\r\n",
        "print(s[::-1])"
      ],
      "execution_count": null,
      "outputs": [
        {
          "output_type": "stream",
          "text": [
            "Enter a string: 76\n",
            "67\n"
          ],
          "name": "stdout"
        }
      ]
    },
    {
      "cell_type": "markdown",
      "metadata": {
        "id": "VIvGQdVGh8Mu"
      },
      "source": [
        "program for reverse of a string"
      ]
    }
  ]
}